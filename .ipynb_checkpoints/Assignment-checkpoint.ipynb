{
 "cells": [
  {
   "cell_type": "code",
   "execution_count": 5,
   "id": "51a609e7-5eea-49de-a1c0-bb53ed1e2d8e",
   "metadata": {
    "tags": []
   },
   "outputs": [
    {
     "ename": "IndentationError",
     "evalue": "unexpected indent (593103352.py, line 5)",
     "output_type": "error",
     "traceback": [
      "\u001b[0;36m  Cell \u001b[0;32mIn[5], line 5\u001b[0;36m\u001b[0m\n\u001b[0;31m    Multithreading is ideal for I/O-bound tasks where the program spends time waiting on input/output operations like reading files or making network requests.\u001b[0m\n\u001b[0m    ^\u001b[0m\n\u001b[0;31mIndentationError\u001b[0m\u001b[0;31m:\u001b[0m unexpected indent\n"
     ]
    }
   ],
   "source": [
    "#1. Discuss the scenarios where multithreading is preferable to multiprocessing and scenarios where multiprocessing is a better choice.\n",
    "\n",
    "##Ans:\n",
    "    ### **Multithreading**:\n",
    "    Multithreading is ideal for I/O-bound tasks where the program spends time waiting on input/output operations like reading files or making network requests.\n",
    "    It is also suitable when tasks need to share memory since threads within a process share the same memory space.\n",
    "\n",
    "      When to use Multithreading:\n",
    "      - I/O-bound tasks: e.g., web scraping, reading/writing files, network requests.\n",
    "      - Low memory overhead: Threads are lightweight.\n",
    "      - Shared memory: Faster communication between threads.\n",
    "  \n",
    "      Example: Downloading multiple webpages concurrently.\n",
    "\n",
    "    #### **Multiprocessing**:\n",
    "    Multiprocessing is better for CPU-bound tasks that require heavy computation. Each process runs in its own memory space, allowing for true parallelism across multiple CPU cores.\n",
    "\n",
    "      When to use Multiprocessing:\n",
    "      - CPU-bound tasks: e.g., data processing, machine learning, image processing.\n",
    "      - True parallelism: Processes run independently on multiple cores.\n",
    "      - No need for shared memory between tasks.\n",
    "\n",
    "      Example: Processing large datasets or performing complex calculations in parallel.\n",
    "\n",
    "In short, use multithreading for I/O-heavy programs and multiprocessing for CPU-intensive ones.\n",
    "    "
   ]
  },
  {
   "cell_type": "code",
   "execution_count": null,
   "id": "0d8555ce-1594-4f76-b273-17dcc0549182",
   "metadata": {},
   "outputs": [],
   "source": [
    "#2. Describe what a process pool is and how it helps in managing multiple processes efficiently.\n",
    "\n",
    "##Ans:\n",
    "    ### **What is a Process Pool?\n",
    "    A Process Pool is a collection of pre-instantiated worker processes that can be used to execute tasks in parallel. \n",
    "    In Python, the `multiprocessing.Pool` class is often used to manage multiple processes efficiently by distributing tasks across available CPU cores. \n",
    "    The pool handles process creation, task assignment, and collection of results.\n",
    "\n",
    "    ### **How Does it Help in Managing Multiple Processes?**\n",
    "    -Creating and destroying processes is expensive in terms of time and system resources. A **process pool** reuses a fixed number of worker processes, reducing the overhead of repeatedly starting and stopping processes.\n",
    "    -A process pool automatically divides the incoming tasks among the worker processes, allowing for efficient load distribution across CPU cores. The tasks are executed in parallel, which improves performance for CPU-bound operations.\n",
    "    -The pool manages the synchronization of tasks and results, so the main program does not need to explicitly handle process communication or deal with inter-process locking mechanisms.\n",
    " "
   ]
  },
  {
   "cell_type": "code",
   "execution_count": null,
   "id": "45d3939e-0bf6-4176-a5e1-9b01757a0596",
   "metadata": {},
   "outputs": [],
   "source": [
    "#3. Explain what multiprocessing is and why it is used in Python programs.\n",
    "\n",
    "## Ans:\n",
    "\n",
    "    Multiprocessing is a technique that allows a Python program to run multiple processes concurrently, each with its own memory space, enabling true parallelism. \n",
    "    In Python, this is implemented using the `multiprocessing` module.\n",
    "\n",
    "    ### **Why is it used?**\n",
    "    -True Parallelism: Unlike threads, multiprocessing avoids Python’s Global Interpreter Lock (GIL), allowing full use of multiple CPU cores for parallel execution.\n",
    "    -Improved Performance: It's ideal for CPU-bound tasks (e.g., data processing, computations) where splitting the workload across multiple cores significantly boosts performance.\n",
    "    -Process Isolation: Each process operates independently, reducing issues like race conditions or shared memory conflicts.\n"
   ]
  },
  {
   "cell_type": "code",
   "execution_count": 6,
   "id": "c9e5d7aa-dae3-46d0-93d6-a9412d5e6b29",
   "metadata": {},
   "outputs": [
    {
     "name": "stdout",
     "output_type": "stream",
     "text": [
      "Added 0 to the list.\n",
      "Added 1 to the list.\n",
      "Removed 0 from the list.\n",
      "Added 2 to the list.\n",
      "Added 3 to the list.\n",
      "Removed 1 from the list.\n",
      "Added 4 to the list.\n",
      "Removed 2 from the list.\n",
      "Removed 3 from the list.\n",
      "Removed 4 from the list.\n",
      "Final list: []\n"
     ]
    }
   ],
   "source": [
    "#4. Write a Python program using multithreading where one thread adds numbers to a list, and another thread removes numbers from the list. Implement a mechanism to avoid race conditions using threading.Lock.\n",
    "\n",
    "import threading\n",
    "import time\n",
    "\n",
    "shared_list = []\n",
    "\n",
    "list_lock = threading.Lock()\n",
    "\n",
    "# Function for adding numbers to the list\n",
    "def add_to_list():\n",
    "    for i in range(5):\n",
    "        with list_lock:  # Acquire the lock\n",
    "            shared_list.append(i)\n",
    "            print(f\"Added {i} to the list.\")\n",
    "        time.sleep(1)\n",
    "\n",
    "# Function for removing numbers from the list\n",
    "def remove_from_list():\n",
    "    for i in range(5):\n",
    "        time.sleep(1.5)  # Added delay to ensure numbers get added first\n",
    "        with list_lock:  # Acquire the lock\n",
    "            if shared_list:\n",
    "                removed = shared_list.pop(0)\n",
    "                print(f\"Removed {removed} from the list.\")\n",
    "\n",
    "# Create threads for adding and removing\n",
    "add_thread = threading.Thread(target=add_to_list)\n",
    "remove_thread = threading.Thread(target=remove_from_list)\n",
    "\n",
    "# Start the threads\n",
    "add_thread.start()\n",
    "remove_thread.start()\n",
    "\n",
    "# Wait for both threads to finish\n",
    "add_thread.join()\n",
    "remove_thread.join()\n",
    "\n",
    "print(\"Final list:\", shared_list)\n"
   ]
  },
  {
   "cell_type": "code",
   "execution_count": null,
   "id": "c7ef06f0-c02a-4083-af5b-c6fe3e005dac",
   "metadata": {},
   "outputs": [],
   "source": [
    "#5. Describe the methods and tools available in Python for safely sharing data between threads and processes.\n",
    "\n",
    "##Ans:\n",
    "    For Threads: Use tools like `Lock`, `RLock`, `Queue`, and `Semaphore` to safely share data between threads.\n",
    "    - For Processes: Use `Queue`, `Manager`, `Value`, `Array`, and `Pipe` for inter-process communication and data sharing.\n",
    "\n",
    "Each method ensures that data is shared and modified safely without running into concurrency issues like race conditions."
   ]
  },
  {
   "cell_type": "code",
   "execution_count": null,
   "id": "66a8f161-18fe-4159-bd9b-10ce77a63b12",
   "metadata": {},
   "outputs": [],
   "source": [
    "#6. Discuss why it’s crucial to handle exceptions in concurrent programs and the techniques available for doing so.\n",
    "\n",
    "## Ans:\n",
    "    ### Reasons Why Exception Handling is Crucial in Concurrent Programs:\n",
    "    1.Preventing Resource Leaks:\n",
    "                                 Without handling exceptions, a thread or process may fail midway, leaving files, network connections, or locks unreleased. This can lead to resource exhaustion.\n",
    "    2.Avoiding Data Corruption:\n",
    "                               If an exception occurs while modifying shared data, it may leave the data in an inconsistent state, leading to further errors or crashes.\n",
    "    3.Graceful Termination:\n",
    "                            Handling exceptions allows the program to perform clean-up operations and exit gracefully instead of crashing unexpectedly.\n",
    "    4.Deadlock Prevention:\n",
    "                           Unhandled exceptions can cause a thread or process to release resources improperly, leading to deadlocks or race conditions.\n",
    "    5.Easier Debugging:\n",
    "                        By properly catching exceptions, developers can log relevant error information and handle issues systematically. It avoids silent failures, making debugging concurrent programs much easier.\n",
    "\n",
    "    ### Few Techniques for Handling Exceptions in Concurrent Programs:\n",
    "    1.Try-Except Blocks:\n",
    "                         One of the common way to handle exceptions is to use `try-except` blocks around code that could potentially raise an exception.\n",
    "    2. Thread or Process-Specific Exception Handling:\n",
    "                                                       Each thread or process can have its own `try-except` blocks to handle errors independently. This isolates errors and ensures that one failed thread doesn’t crash the entire program.\n",
    "    3. Exception Propagation:\n",
    "                              In multithreading, unhandled exceptions inside threads don’t propagate to the main thread. To deal with this, the exception needs to be caught inside the thread, logged, and optionally re-raised to communicate with the main program.\n",
    "    4.Thread or Process Joining:\n",
    "                                When using `thread.join()` or `process.join()`, you can check whether the thread or process completed successfully or raised an exception. If exceptions are being caught inside the threads, the main program can handle them accordingly.\n",
    "\n"
   ]
  },
  {
   "cell_type": "code",
   "execution_count": 7,
   "id": "90925729-ec06-4e8c-9fe2-30adb5422f74",
   "metadata": {},
   "outputs": [
    {
     "name": "stdout",
     "output_type": "stream",
     "text": [
      "Calculating factorial of 1\n",
      "Calculating factorial of 2\n",
      "Calculating factorial of 3\n",
      "Calculating factorial of 4\n",
      "Calculating factorial of 5\n",
      "Calculating factorial of 6\n",
      "Calculating factorial of 7\n",
      "Calculating factorial of 8\n",
      "Calculating factorial of 9\n",
      "Calculating factorial of 10\n",
      "Factorial of 1 is 1\n",
      "Factorial of 2 is 2\n",
      "Factorial of 3 is 6\n",
      "Factorial of 4 is 24\n",
      "Factorial of 5 is 120\n",
      "Factorial of 6 is 720\n",
      "Factorial of 7 is 5040\n",
      "Factorial of 8 is 40320\n",
      "Factorial of 9 is 362880\n",
      "Factorial of 10 is 3628800\n"
     ]
    }
   ],
   "source": [
    "#7. Create a program that uses a thread pool to calculate the factorial of numbers from 1 to 10 concurrently.Use concurrent.futures.ThreadPoolExecutor to manage the threads.\n",
    "import concurrent.futures\n",
    "import math\n",
    "\n",
    "# Function to calculate factorial\n",
    "def factorial(n):\n",
    "    print(f\"Calculating factorial of {n}\")\n",
    "    return math.factorial(n)\n",
    "\n",
    "# Create a thread pool and calculate factorials concurrently\n",
    "def calculate_factorials():\n",
    "    numbers = list(range(1, 11))  # Numbers from 1 to 10\n",
    "    with concurrent.futures.ThreadPoolExecutor() as executor:\n",
    "        # Submit tasks to the thread pool\n",
    "        results = executor.map(factorial, numbers)\n",
    "        \n",
    "        # Collect and print results\n",
    "        for number, result in zip(numbers, results):\n",
    "            print(f\"Factorial of {number} is {result}\")\n",
    "\n",
    "if __name__ == \"__main__\":\n",
    "    calculate_factorials()\n"
   ]
  },
  {
   "cell_type": "code",
   "execution_count": 8,
   "id": "b0b2a534-5677-4982-bc83-35bde12301c9",
   "metadata": {},
   "outputs": [
    {
     "name": "stdout",
     "output_type": "stream",
     "text": [
      "Pool size: 2\n",
      "Squares: [1, 4, 9, 16, 25, 36, 49, 64, 81, 100]\n",
      "Time taken: 0.0289 seconds\n",
      "\n",
      "Pool size: 4\n",
      "Squares: [1, 4, 9, 16, 25, 36, 49, 64, 81, 100]\n",
      "Time taken: 0.0392 seconds\n",
      "\n",
      "Pool size: 8\n",
      "Squares: [1, 4, 9, 16, 25, 36, 49, 64, 81, 100]\n",
      "Time taken: 0.0802 seconds\n",
      "\n"
     ]
    }
   ],
   "source": [
    "#8. Create a Python program that uses multiprocessing.Pool to compute the square of numbers from 1 to 10 in parallel. Measure the time taken to perform this computation using a pool of different sizes (e.g., 2, 4, 8 processes).\n",
    "import multiprocessing\n",
    "import time\n",
    "\n",
    "# Function to compute the square of a number\n",
    "def square(n):\n",
    "    return n * n\n",
    "\n",
    "# Function to compute squares using a pool of processes\n",
    "def compute_squares(pool_size):\n",
    "    start_time = time.time()\n",
    "    \n",
    "    with multiprocessing.Pool(processes=pool_size) as pool:\n",
    "        results = pool.map(square, range(1, 11))\n",
    "    \n",
    "    end_time = time.time()\n",
    "    duration = end_time - start_time\n",
    "    \n",
    "    print(f\"Pool size: {pool_size}\")\n",
    "    print(f\"Squares: {results}\")\n",
    "    print(f\"Time taken: {duration:.4f} seconds\\n\")\n",
    "\n",
    "if __name__ == \"__main__\":\n",
    "    pool_sizes = [2, 4, 8]  # Different pool sizes to test\n",
    "    \n",
    "    for size in pool_sizes:\n",
    "        compute_squares(size)\n"
   ]
  },
  {
   "cell_type": "code",
   "execution_count": null,
   "id": "ad364061-a426-47fe-a170-68fc5275e69c",
   "metadata": {},
   "outputs": [],
   "source": []
  }
 ],
 "metadata": {
  "kernelspec": {
   "display_name": "Python 3 (ipykernel)",
   "language": "python",
   "name": "python3"
  },
  "language_info": {
   "codemirror_mode": {
    "name": "ipython",
    "version": 3
   },
   "file_extension": ".py",
   "mimetype": "text/x-python",
   "name": "python",
   "nbconvert_exporter": "python",
   "pygments_lexer": "ipython3",
   "version": "3.10.8"
  }
 },
 "nbformat": 4,
 "nbformat_minor": 5
}
